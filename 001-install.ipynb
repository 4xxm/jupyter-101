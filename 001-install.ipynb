{
 "cells": [
  {
   "cell_type": "markdown",
   "id": "99b7f143-7a49-4f48-b91d-d4e9e0a361fa",
   "metadata": {},
   "source": [
    "# 安装 JupyterLab\n",
    "\n",
    "以下是在 macOS 上通过 `pip` 安装 `JupyterLab` 的命令：\n",
    "\n",
    "```python\n",
    "pip install jupyter lab\n",
    "\n",
    "# or\n",
    "\n",
    "pip3 install jupyter lab\n",
    "```"
   ]
  },
  {
   "cell_type": "markdown",
   "id": "5f993fd5-8ab0-4d2f-9f4b-23f07337c71a",
   "metadata": {},
   "source": [
    "## 安装汉化语言包\n",
    "\n",
    "安装完成后，如果担心英语菜单使用不方便的话，还可以安装官方提供的语言包（JupyterLab 3.0 版本以上可用），其命令为:\n",
    "\n",
    "```bash\n",
    "pip install jupyterlab-language-pack-zh-CN\n",
    "\n",
    "# or\n",
    "\n",
    "pip3 install jupyterlab-language-pack-zh-CN\n",
    "```\n",
    "\n",
    "如果出现安装失败的情况，则可以选择手动安装的方式，安装方式为：\n",
    "\n",
    "1. 去下载官方语言包的汉化安装包 `.whl` 文件，该文件也已经放在当前项目下，文件名为 `jupyterlab_language_pack_zh_CN-0.0.1.dev0-py2.py3-none-any.whl`\n",
    "2. 在 `whl` 文件目录下运行安装命令 `pip install jupyterlab_language_pack_zh_CN-0.0.1.dev0-py2.py3-none-any.whl`\n",
    "3. 等待安装包安装成功\n",
    "4. 用 `jupyter lab` 命令启动 `jupyterlab`\n",
    "5. 在 jupyterlab web 界面中选择语言为 `中文（简体，中国）`即可\n"
   ]
  },
  {
   "cell_type": "markdown",
   "id": "bde40818-5387-4c22-9bd6-c806f16e1bda",
   "metadata": {},
   "source": [
    "## 带端口启动 Jupyter Notebook\n",
    "\n",
    "```bash\n",
    "jupyter notebook --port 9999\n",
    "```"
   ]
  },
  {
   "cell_type": "markdown",
   "id": "629a68a1-668e-456a-8358-b058bbd57101",
   "metadata": {},
   "source": [
    "## JupyterLab 参考手册\n",
    "\n",
    "- [官方文档](https://jupyterlab.readthedocs.io/en/latest/index.html)\n",
    "- [官方博客](https://blog.jupyter.org/search?q=jupyterlab)"
   ]
  },
  {
   "cell_type": "markdown",
   "id": "ba3a54db-5cac-412f-9fc7-65b3a0831b0d",
   "metadata": {},
   "source": [
    "## 关于 JupyterLab & Jupyter Notebook\n",
    "\n",
    "在启动了 JupyterLab 后，你仍然可以访问 Notebook 版本，只需要将 url 后面的 lab 改成 tree 即可，即：\n",
    "\n",
    "- JupyterLab  <http://localhost:8888/lab>\n",
    "- Jupyter Notebook  <http://localhost:8888/tree>"
   ]
  }
 ],
 "metadata": {
  "kernelspec": {
   "display_name": "Python 3 (ipykernel)",
   "language": "python",
   "name": "python3"
  },
  "language_info": {
   "codemirror_mode": {
    "name": "ipython",
    "version": 3
   },
   "file_extension": ".py",
   "mimetype": "text/x-python",
   "name": "python",
   "nbconvert_exporter": "python",
   "pygments_lexer": "ipython3",
   "version": "3.9.1"
  }
 },
 "nbformat": 4,
 "nbformat_minor": 5
}
