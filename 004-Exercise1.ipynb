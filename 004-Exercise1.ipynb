{
 "cells": [
  {
   "cell_type": "markdown",
   "id": "1cddd820-50ca-409b-84ec-9e08f2a0092f",
   "metadata": {},
   "source": [
    "## Exercise1 Note\n",
    "\n",
    "#### `Ctrl-Enter` `Shift-Enter` & `Alt-Enter`\n",
    "\n",
    "- `Ctrl-Enter` ，执行当前 cell\n",
    "- `Shift-Enter`，执行当前 cell 并跳转至下一个 cell（没有的话则新建一个 cell）\n",
    "- `Alt-Enter`，执行当前 cell 并新建一个 cell"
   ]
  },
  {
   "cell_type": "code",
   "execution_count": null,
   "id": "33e40539-6c29-49ee-bcd0-54a933958915",
   "metadata": {},
   "outputs": [],
   "source": []
  }
 ],
 "metadata": {
  "kernelspec": {
   "display_name": "Python 3 (ipykernel)",
   "language": "python",
   "name": "python3"
  },
  "language_info": {
   "codemirror_mode": {
    "name": "ipython",
    "version": 3
   },
   "file_extension": ".py",
   "mimetype": "text/x-python",
   "name": "python",
   "nbconvert_exporter": "python",
   "pygments_lexer": "ipython3",
   "version": "3.9.1"
  }
 },
 "nbformat": 4,
 "nbformat_minor": 5
}
