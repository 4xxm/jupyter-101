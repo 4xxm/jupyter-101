{
 "cells": [
  {
   "cell_type": "markdown",
   "id": "82381445-63e3-4177-8dac-d27d9b0d1a49",
   "metadata": {},
   "source": [
    "# 关于 Jupyter Notebook\n",
    "\n",
    "以下内容摘自 [Getting Started wiht JuypterLab(Beginner Level) | SciPy 2018 Tutorial | Jason Grout](https://www.youtube.com/watch?v=Gzun8PpyBCo)\n",
    "\n",
    "## Jupyter Notebook 特点\n",
    "\n",
    "> ## Interactive, Exploratory, Reproducible\n",
    "> - Interactive, browser-based computing environment\n",
    "> - Exploratory data science, ML, visualization, analysis, stats\n",
    "> - Reproducible document format:\n",
    ">   - Code\n",
    ">   - Narrative text (markdown)\n",
    ">   - Equations (LaTex)\n",
    ">   - Images, visualizations\n",
    "> - Over 100 programming languages\n",
    "> - Everything open source (BSD License)\n",
    "\n",
    "\n",
    "- Interactive / 交互式，基于浏览器的交互式计算环境，可以在 notebook 中直接交互，不需要跑到某个特定的生产环境上（但需要能够连接）\n",
    "- Exploratoy / 探索式，数据科学和科学计算工具，交互式的探索数据\n",
    "- Reproducible / 可复用，是一种非常便于分享的文档格式（包含代码、叙述性文字、公式以及图片/图形等）\n",
    "\n",
    "Jason 也列举了一些目前使用 Notebook 的场景：\n",
    "\n",
    "- 编写交互式教科书"
   ]
  },
  {
   "cell_type": "markdown",
   "id": "f691f636-2824-4975-aa06-bacc3551ab7d",
   "metadata": {},
   "source": [
    "## Building Blocks（构建块）\n",
    "\n",
    "JupyterLab 的包含的构建块： \n",
    "\n",
    "- File Browser / 文件管理\n",
    "- Notebooks / 笔记本\n",
    "- Terminal / 终端\n",
    "- Text Editor / 编辑器\n",
    "- Kernels\n",
    "- Output / 输出"
   ]
  },
  {
   "cell_type": "markdown",
   "id": "31f03849-3257-42ef-8f75-bdf1e1c44f52",
   "metadata": {},
   "source": [
    "## 数据源\n",
    "\n",
    "### LIGO\n",
    "\n",
    "[LIGO Open Science Center](https://ligo.org/)\n",
    "\n",
    "用户可以在他们的 tutorail 中下载相关的科学数据进行探索，链接 <https://www.gw-openscience.org/tutorials/>\n",
    "\n",
    "### BuzzFeedNews\n",
    "\n",
    "<https://github.com/BuzzFeedNews>\n",
    "\n",
    "### O'Reilly\n",
    "\n",
    "- <>\n",
    "- <https://www.oreilly.com/content/data-visualization-with-seaborn/>"
   ]
  },
  {
   "cell_type": "markdown",
   "id": "0dbdba83-f987-4b8b-808e-367d80542ce0",
   "metadata": {
    "tags": []
   },
   "source": [
    "# JupyterLab VS Jupyter Notebook\n",
    "\n",
    "以下仅列举 JupyterLab 基于 Notebook 优化的内容部分：\n",
    "\n",
    "| 内容项 | JupyterLab | Jupyter Notebook | \n",
    "| :-- | :--: | :--: |\n",
    "| 可折叠输入/输出 | ✅ | ❌ |\n",
    "| 可拖拽 cells | ✅ | ❌ |\n",
    "| Notebook新视图 | ✅ | ❌ |\n",
    "| 为 Notebook 新建 console |  ✅ | ❌ |\n",
    "| 为输出新建视图 | ✅ | ❌ |\n",
    "\n",
    "\n",
    "> #### 关于优化部分的说明\n",
    ">\n",
    "> **Notebook 新视图**\n",
    "> 1. 你可以将其当做一个预览功能，实时的预览功能\n",
    "> 2. 但其实他不仅仅是一个预览，这2个窗口（或者多个窗口）是同一个文件，并不是一个 copy ，并且允许这同一个文件两个窗口中的内容互相拖拽（实际上就是移动，比如将最底部的某个文件移动到最顶部）\n",
    "> \n",
    "> **右键新建 console**\n",
    "> 1. 在线上的 JupyterLab & 本地的 JupyterLab 调试的时候，并没有出现 Demo 中的 Notebook 与 console 相互交互的效果；\n",
    "> \n",
    "> **为输出新建视图**\n",
    "> 1. 为输出新建视图有一些很有意思的用法，可以直接当做 Dashboard 来使用\n",
    "\n",
    "\n",
    "JupyterLab 支持用户在 Markdown 文件中通过选中代码部分并执行 `shift + enter`命令再新建的 `console` 中直接执行代码部分"
   ]
  },
  {
   "cell_type": "markdown",
   "id": "4910b0d8-db6d-4274-8d0f-ec1f9d3bffdd",
   "metadata": {},
   "source": [
    "## JupyterLab 的文件查看功能\n",
    "\n",
    "JupyterLab 有着强大的文件查看功能（file viewer），但目前并未对其与 Jupyter Notebook 进行对比。支持包括：\n",
    "\n",
    "- Image (图像，支持包括 放大、缩小、水平/垂直翻转、反相等等），~Notebook 不支持~\n",
    "- PDF\n",
    "- geojson（地理数据格式），~Notebook 不支持~\n",
    "- Vega Lite （可视化图形 json 格式），~Notebook 不支持~\n",
    "- CSV （JupyterLab CSV针对于 Notebook 是一种全新的查看形式，2018年时官方称可以处理最大800M左右的 csv文件/ Safari&IE 可以处理 1.5G/ Firefox可以处理 200M，打开还非常的丝滑，并嘲笑了一番 excel），~Notebook 不支持~\n",
    "- FASTA （基因组处理）\n",
    "\n",
    "JupyterLab 自身有着足够的可扩展性，允许用户定义自己的文件格式及文件查看器。\n",
    "\n",
    "在演示中，Jason 还提到了 QuantStack 为 JupyterLab 提供的 [DrawIO Diagram插件](https://github.com/QuantStack/jupyterlab-drawio），允许用户在 JupyterLab 中直接绘制流程图。"
   ]
  }
 ],
 "metadata": {
  "kernelspec": {
   "display_name": "Python 3 (ipykernel)",
   "language": "python",
   "name": "python3"
  },
  "language_info": {
   "codemirror_mode": {
    "name": "ipython",
    "version": 3
   },
   "file_extension": ".py",
   "mimetype": "text/x-python",
   "name": "python",
   "nbconvert_exporter": "python",
   "pygments_lexer": "ipython3",
   "version": "3.9.1"
  }
 },
 "nbformat": 4,
 "nbformat_minor": 5
}
