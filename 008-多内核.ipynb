{
 "cells": [
  {
   "cell_type": "markdown",
   "id": "bf3f1c1b-0829-4d30-9540-4c49b1358e63",
   "metadata": {},
   "source": [
    "## jupyter 多内核使用\n",
    "\n",
    "jupyter 支持了多种语言，每一种语言对应一个/多个类型的 kernel，kernel 的列表可以参考 <https://github.com/jupyter/jupyter/wiki/Jupyter-kernels>\n",
    "\n",
    "查看已经安装的 kernel 命令为：\n",
    "\n",
    "```bash\n",
    "jupyter kernelspec list\n",
    "```\n",
    "\n",
    "### Python2\n",
    "\n",
    "如果你本机已经安装了 Python2 ，则可以通过运行以下命令来增加 python2 的 kernel：\n",
    "\n",
    "```bash\n",
    "# Step 1 - Install ipython kernel for python2\n",
    "python2 -m pip install ipykernel\n",
    "\n",
    "# Step 2 - python2 kernel\n",
    "python2 -m ipykernel install --user\n",
    "```\n",
    "\n",
    "这个时候就可以通过 `jupyter kernelspec list` 来查看目前已经安装及支持的  kernel 类型\n",
    "\n",
    "\n",
    "### Java\n",
    "\n",
    "Java 的 内核并不是官方提供的，是社区开发者维护的一个内核，这里我们使用 IJava 这个项目来安装 Java 内核：\n",
    "\n",
    "GitHub: <https://github.com/SpencerPark/IJava>\n",
    "\n",
    "这里我们使用从 release 下载 zip 包的方式来安装，具体的步骤为：\n",
    "\n",
    "1. 从 GitHub 上 下载 IJava release\n",
    "2. 安装 IJava 内核\n",
    "3. 查看已安装的内核\n",
    "\n",
    "```bash\n",
    "# Step 1 - 下载 Release\n",
    "wget https://github.com/SpencerPark/IJava/releases/download/v1.3.0/ijava-1.3.0.zip\n",
    "\n",
    "# Step 2 - 安装 IJava\n",
    "## unzip\n",
    "unzip ijava-1.3.0.zip\n",
    "## 执行 install.py\n",
    "python install.py --sys-prefix\n",
    "```\n",
    "\n",
    "最后通过 `jupyter kernelspec list` 来查看是否添加上 Java 的 kernel\n"
   ]
  }
 ],
 "metadata": {
  "kernelspec": {
   "display_name": "Python 3 (ipykernel)",
   "language": "python",
   "name": "python3"
  },
  "language_info": {
   "codemirror_mode": {
    "name": "ipython",
    "version": 3
   },
   "file_extension": ".py",
   "mimetype": "text/x-python",
   "name": "python",
   "nbconvert_exporter": "python",
   "pygments_lexer": "ipython3",
   "version": "3.9.1"
  }
 },
 "nbformat": 4,
 "nbformat_minor": 5
}
