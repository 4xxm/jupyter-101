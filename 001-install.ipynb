{
 "cells": [
  {
   "cell_type": "markdown",
   "id": "99b7f143-7a49-4f48-b91d-d4e9e0a361fa",
   "metadata": {},
   "source": [
    "# 安装 JupyterLab\n",
    "\n",
    "以下是在 macOS 上通过 `pip` 安装 `JupyterLab` 的命令：\n",
    "\n",
    "```python\n",
    "pip install jupyter lab\n",
    "\n",
    "# or\n",
    "\n",
    "pip3 install jupyter lab\n",
    "```"
   ]
  },
  {
   "cell_type": "markdown",
   "id": "5f993fd5-8ab0-4d2f-9f4b-23f07337c71a",
   "metadata": {},
   "source": [
    "## 安装汉化语言包\n",
    "\n",
    "安装完成后，如果担心英语菜单使用不方便的话，还可以安装官方提供的语言包（JupyterLab 3.0 版本以上可用），其命令为:\n",
    "\n",
    "```bash\n",
    "pip install jupyterlab-language-pack-zh-CN\n",
    "\n",
    "# or\n",
    "\n",
    "pip3 install jupyterlab-language-pack-zh-CN\n",
    "```\n",
    "\n",
    "如果出现安装失败的情况，则可以选择手动安装的方式，安装方式为：\n",
    "\n",
    "1. 去下载官方语言包的汉化安装包 `.whl` 文件，该文件也已经放在当前项目下，文件名为 `jupyterlab_language_pack_zh_CN-0.0.1.dev0-py2.py3-none-any.whl`\n",
    "2. 在 `whl` 文件目录下运行安装命令 `pip install jupyterlab_language_pack_zh_CN-0.0.1.dev0-py2.py3-none-any.whl`\n",
    "3. 等待安装包安装成功\n",
    "4. 用 `jupyter lab` 命令启动 `jupyterlab`\n",
    "5. 在 jupyterlab web 界面中选择语言为 `中文（简体，中国）`即可\n"
   ]
  },
  {
   "cell_type": "markdown",
   "id": "bde40818-5387-4c22-9bd6-c806f16e1bda",
   "metadata": {},
   "source": [
    "## 带端口启动 Jupyter Notebook\n",
    "\n",
    "```bash\n",
    "jupyter notebook --port 9999\n",
    "```"
   ]
  },
  {
   "cell_type": "markdown",
   "id": "629a68a1-668e-456a-8358-b058bbd57101",
   "metadata": {},
   "source": [
    "## JupyterLab 参考手册\n",
    "\n",
    "- [官方文档](https://jupyterlab.readthedocs.io/en/latest/index.html)\n",
    "- [官方博客](https://blog.jupyter.org/search?q=jupyterlab)"
   ]
  },
  {
   "cell_type": "markdown",
   "id": "ba3a54db-5cac-412f-9fc7-65b3a0831b0d",
   "metadata": {},
   "source": [
    "## 关于 JupyterLab & Jupyter Notebook\n",
    "\n",
    "在启动了 JupyterLab 后，你仍然可以访问 Notebook 版本，只需要将 url 后面的 lab 改成 tree 即可，即：\n",
    "\n",
    "- JupyterLab  <http://localhost:8888/lab>\n",
    "- Jupyter Notebook  <http://localhost:8888/tree>\n",
    "\n",
    "在 JupyterLab 的帮助菜单中，也有一个 启动经典Notebook 的菜单，可以直接进入经典的 Notebook"
   ]
  },
  {
   "cell_type": "markdown",
   "id": "b68d201e-f421-4e4c-92e4-c0e43e4acfac",
   "metadata": {},
   "source": [
    "## 安装 JupyterLab 插件\n",
    "\n",
    "可以通过 JupyterLab 左侧的【插件管理器】来安装 JupyterLab 插件，但是官方并不能保证所有插件的可靠性，随意安装可能存在风险。\n",
    "\n",
    "> 警告\n",
    ">\n",
    "> JupyterLab 开发团队很高兴有一个强大的 第三方扩展社区。 然而，我们不会审查 第三方扩展，一些扩展可能会带来安全 风险或包含您能在您机器上运行的恶意代码。\n",
    "\n",
    "在插件安装完成后，需要重新构建后才能使用新的插件功能，插件的工作机制与 npm 的包管理机制有点类似。\n",
    "\n",
    "\n",
    "### 插件 List\n",
    "\n",
    "目前在项目下安装/使用到的插件包括：\n",
    "\n",
    "- `jupyterlab-manager` [@jupyter-widgets/jupyterlab-manager](https://github.com/jupyter-widgets/ipywidgets)\n",
    "- `fasta-extension` [@jupyterlab/fasta-extension](https://github.com/jupyterlab/jupyter-renderers)\n",
    "- `geojson-extension` [@jupyterlab/geojson-extension](https://github.com/jupyterlab/jupyter-renderers)\n",
    "- `elyra` [@elyra/theme-extension](https://github.com/elyra-ai/elyra)\n",
    "- `ipyvolume` [@ipyvolume](https://github.com/maartenbreddels/ipyvolume)\n",
    "- `bqplot` [@bqplot](https://github.com/bloomberg/bqplot.git)\n",
    "- `jupyter-threejs` [@jupyter-threejs](https://github.com/jupyter-widgets/pythreejs.git)\n",
    "- `jupyter-tutorial` [@jupyter-tutorial](https://github.com/cdat/jupyterlab-tutorial)\n",
    "- `jupyter-drawio` [@jupyter-drawio](https://github.com/QuantStack/jupyterlab-drawio)\n"
   ]
  }
 ],
 "metadata": {
  "kernelspec": {
   "display_name": "Python 3 (ipykernel)",
   "language": "python",
   "name": "python3"
  },
  "language_info": {
   "codemirror_mode": {
    "name": "ipython",
    "version": 3
   },
   "file_extension": ".py",
   "mimetype": "text/x-python",
   "name": "python",
   "nbconvert_exporter": "python",
   "pygments_lexer": "ipython3",
   "version": "3.9.1"
  }
 },
 "nbformat": 4,
 "nbformat_minor": 5
}
