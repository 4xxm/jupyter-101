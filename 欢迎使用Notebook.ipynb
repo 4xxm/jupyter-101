{
  "nbformat": 4,
  "nbformat_minor": 2,
  "metadata": {
    "colab": {
      "name": "欢迎使用 Colaboratory",
      "provenance": [],
      "collapsed_sections": []
    },
    "kernelspec": {
      "name": "python3",
      "display_name": "Python 3.9.1 64-bit"
    },
    "language_info": {
      "name": "python",
      "version": "3.9.1",
      "mimetype": "text/x-python",
      "codemirror_mode": {
        "name": "ipython",
        "version": 3
      },
      "pygments_lexer": "ipython3",
      "nbconvert_exporter": "python",
      "file_extension": ".py"
    },
    "interpreter": {
      "hash": "aee8b7b246df8f9039afb4144a1f6fd8d2ca17a180786b69acc140d282b71a49"
    }
  },
  "cells": [
    {
      "cell_type": "markdown",
      "source": [
        "# 什么是 CSDN Notebook？\n",
        "\n",
        "CSDN Notebook（简称 Notebook）是 CSDN 基于 Jupyter Notebook 为用户提供的 Notebook 服务，可在浏览器中编写和执行代码。\n",
        "\n",
        "[CSDN Notebook](https://jupyter.csdn.net/)\n",
        "\n",
        "![CSDN Notebook](https://codechina.csdn.net/codechina/help-docs/-/wikis/docs/img/notebook.jpg)\n",
        "\n",
        "Notebook 有如下特点：\n",
        "\n",
        "- 可交互性，Notebook 基于浏览器的交互式计算环境，可以在 notebook 中直接交互，不需要跑到某个特定的生产环境上（但需要能够连接该生产环境）\n",
        "- 可探索性，Notebook 是一个数据科学和科学计算工具，可交互式的探索数据\n",
        "- 可复用性，Notebook 是一种非常便于分享的文档格式（包含代码、叙述性文字、公式以及图片/图形等） \n",
        "\n",
        "无论你是一名<strong>学生</strong>、<strong>数据科学家</strong>还是 <strong>AI 研究员</strong>，Notebook 都能够帮助你更轻松地完成工作。"
      ],
      "metadata": {
        "id": "5fCEDCU_qrC0"
      }
    },
    {
      "cell_type": "markdown",
      "source": [
        "## <strong>使用入门</strong>\n",
        "\n",
        "你正在阅读的文档并非静态网页，而是一个允许你编写和执行代码的交互式环境，称为 <strong>notebook</strong>。\n",
        "\n",
        "例如，以下<strong>代码单元格</strong>包含一个简短的 Python 脚本，该脚本会计算值、将其存储在变量中并输出结果："
      ],
      "metadata": {
        "id": "GJBs_flRovLc"
      }
    },
    {
      "cell_type": "code",
      "execution_count": 1,
      "source": [
        "seconds_in_a_hour = 60 * 60\n",
        "seconds_in_a_hour"
      ],
      "outputs": [
        {
          "output_type": "execute_result",
          "data": {
            "text/plain": [
              "3600"
            ]
          },
          "metadata": {},
          "execution_count": 1
        }
      ],
      "metadata": {}
    },
    {
      "cell_type": "markdown",
      "source": [
        "要执行上述单元格中的代码，请单击并选择它，然后点击工具栏中的“Run”按钮，或使用键盘快捷键“Command/Ctrl+Enter”。要修改代码，只需点击单元格，然后开始修改。\n",
        "\n",
        "你在某个单元格中定义的变量之后可用在其他单元格中："
      ],
      "metadata": {
        "id": "2fhs6GZ4qFMx"
      }
    },
    {
      "cell_type": "code",
      "execution_count": 2,
      "source": [
        "seconds_in_a_week = 7 * 24 * seconds_in_a_hour\n",
        "seconds_in_a_week"
      ],
      "outputs": [
        {
          "output_type": "execute_result",
          "data": {
            "text/plain": [
              "604800"
            ]
          },
          "metadata": {},
          "execution_count": 2
        }
      ],
      "metadata": {
        "colab": {
          "base_uri": "https://localhost:8080/"
        },
        "id": "-gE-Ez1qtyIA",
        "outputId": "474fdcd0-0092-41ba-a3e5-e09998f3052d"
      }
    },
    {
      "cell_type": "markdown",
      "source": [
        "对于 notebook，你可以将<strong>可执行代码</strong>、<strong>富文本</strong>以及<strong>图像</strong>、<strong>HTML</strong>、<strong>LaTeX</strong> 等内容都写入到 1 个文档中。当你创建自己的 notebook 时，系统会将这些笔记本存储在系统为你分配的存储中。"
      ],
      "metadata": {
        "id": "lSrWNr3MuFUS"
      }
    },
    {
      "cell_type": "markdown",
      "source": [
        "## 数据科学\n",
        "\n",
        "借助 Notebook，你可以充分利用常用 Python 库的强大功能来分析和可视化数据。下方的代码单元格使用 `NumPy` 生成一些随机数据，并使用 `Matplotlib` 可视化这些数据。要修改代码，只需点击单元格，然后开始修改。"
      ],
      "metadata": {
        "id": "UdRyKR44dcNI"
      }
    },
    {
      "cell_type": "code",
      "execution_count": 10,
      "source": [
        "import numpy as np\n",
        "from matplotlib import pyplot as plt\n",
        "\n",
        "ys = 200 + np.random.randn(100)\n",
        "x = [x for x in range(len(ys))]\n",
        "\n",
        "plt.plot(x, ys, '-')\n",
        "plt.fill_between(x, ys, 195, where=(ys > 195), facecolor='g', alpha=0.6)\n",
        "\n",
        "plt.title(\"Sample\")\n",
        "plt.show()"
      ],
      "outputs": [
        {
          "output_type": "display_data",
          "data": {
            "image/png": "[encoded data removed]",
            "text/plain": [
              "<Figure size 432x288 with 1 Axes>"
            ]
          },
          "metadata": {
            "needs_background": "light"
          }
        }
      ],
      "metadata": {
        "colab": {
          "base_uri": "https://localhost:8080/",
          "height": 281
        },
        "id": "C4HZx7Gndbrh",
        "outputId": "072d7fa3-47b6-4b98-ea57-e67811ba92b0"
      }
    },
    {
      "cell_type": "markdown",
      "source": [
        "## 机器学习\n",
        "\n",
        "借助 Notebook，你只需使用几行代码，即可导入图像数据集、用图像数据集训练图像分类器，以及评估模型。"
      ],
      "metadata": {
        "id": "OwuxHmxllTwN"
      }
    }
  ]
}