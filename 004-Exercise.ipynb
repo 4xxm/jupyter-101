{
 "cells": [
  {
   "cell_type": "markdown",
   "id": "1cddd820-50ca-409b-84ec-9e08f2a0092f",
   "metadata": {},
   "source": [
    "## Exercise 1 Note\n",
    "\n",
    "#### `Ctrl-Enter` `Shift-Enter` & `Alt-Enter`\n",
    "\n",
    "- `Ctrl-Enter` ，执行/重复执行当前 cell\n",
    "- `Shift-Enter`，执行当前 cell 并跳转至下一个 cell（没有的话则新建一个 cell）\n",
    "- `Alt-Enter`，执行当前 cell 并新建一个 cell"
   ]
  },
  {
   "cell_type": "markdown",
   "id": "74a40c66-3782-4305-a2c1-f85f2144159e",
   "metadata": {},
   "source": [
    "#### Import\n",
    "\n",
    "在`代码 cell` 中，可以通过 `pip install xxx` & `import xxx` 的方式来导入非标准库（即不是系统自带的 lib）\n",
    "\n",
    "导入完成后，在`代码 cell` 中你依旧可以像 IDE 那样 使用 `tab` 键来获得补全提示，补全信息的种类包括：\n",
    "\n",
    "```html\n",
    "m (红色) `#d9282c` -- module \n",
    "f (蓝色）`#1577b2` -- function\n",
    "c（绿色）`#21a037` -- class\n",
    "i （橙色）`#ff7f24` -- instance\n",
    "```\n",
    "\n",
    "同时你可以开启上下文帮助（`command + I`），查看具体某个方法的使用提示\n",
    "\n",
    "非常的方便。"
   ]
  },
  {
   "cell_type": "markdown",
   "id": "f820f41c",
   "metadata": {},
   "source": [
    "## Exercise 2 Note\n",
    "\n",
    "#### Input/Output 收起\n",
    "\n",
    "Input / Output 在内容过长不便于阅读的时候，可以选择以下两种方式来进行处理，分别是：\n",
    "\n",
    "- 隐藏，可以单击 Input / Output 左侧的颜色条，来隐藏/显示 内容；\n",
    "- 滚动输出，可以在 Input / Output 上单击右键，然后选择 `启用滚动输出` 来固定内容展示高度，并启用滚动条；"
   ]
  },
  {
   "cell_type": "markdown",
   "id": "90ea8cc2",
   "metadata": {},
   "source": [
    "#### 新建 Console\n",
    "\n",
    "从文件中新建 console 的时候（包括 .ipynb文件、markdown 文件），除了新建 console 外，还可以将是使用已经启动了的 console，并直接将文件中的代码内容在已经启动过的 console 中直接运行，并重复利用之前导入过的 lib、定义过的变量、 function 等。"
   ]
  },
  {
   "cell_type": "markdown",
   "id": "44e8da22-1e1a-4f67-96d8-ea559909501d",
   "metadata": {},
   "source": [
    "#### 更改内核\n",
    "\n",
    "对于每个 .ipynb A 文件，都可以选择更改它的内核，甚至可以将另外一个打开的 .ipynb B 文件作为它的内核来使用，让 A 从 B 上继承参数等内容。"
   ]
  },
  {
   "cell_type": "markdown",
   "id": "ed7fdb45-a68e-4f8f-8009-4a1d4edac572",
   "metadata": {},
   "source": [
    "## Exercise 3 Note\n",
    "\n",
    "### 关于用户配置\n",
    "\n",
    "Tips：\n",
    "\n",
    "1. 不需要将 markdown 文件中的代码复制到 console 中去运行（ .ipynb 中的代码可以直接运行，更加不需要考虑复制到 console 中去执行），只需要为 markdown 文件新建 console，并选中要执行的代码/代码块，然后通过 `Shift + Enter` 命令运行即可；\n",
    "2. JupyterLab 针对不同编辑器使用习惯的用户提供了4套不同的快捷键映射方案，分别是 `default`, `Sublime Text`, `vim`, `emacs`；\n",
    "3. JupyterLab 的相关设置（比如 layout）都存储在本地，因此刷新等操作不会影响这些设置（但是 JupyterHub 是如何运作的，这个还需要 @海峰 到时候深入了解一下）\n"
   ]
  }
 ],
 "metadata": {
  "kernelspec": {
   "display_name": "Python 3 (ipykernel)",
   "language": "python",
   "name": "python3"
  },
  "language_info": {
   "codemirror_mode": {
    "name": "ipython",
    "version": 3
   },
   "file_extension": ".py",
   "mimetype": "text/x-python",
   "name": "python",
   "nbconvert_exporter": "python",
   "pygments_lexer": "ipython3",
   "version": "3.9.1"
  }
 },
 "nbformat": 4,
 "nbformat_minor": 5
}
