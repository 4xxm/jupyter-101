{
 "cells": [
  {
   "cell_type": "markdown",
   "id": "99b7f143-7a49-4f48-b91d-d4e9e0a361fa",
   "metadata": {},
   "source": [
    "# 安装 JupyterLab\n",
    "\n",
    "以下是在 macOS 上通过 `pip` 安装 `JupyterLab` 的命令：\n",
    "\n",
    "```python\n",
    "pip install jupyter lab\n",
    "\n",
    "# or\n",
    "\n",
    "pip3 install jupyter lab\n",
    "```"
   ]
  },
  {
   "cell_type": "markdown",
   "id": "5f993fd5-8ab0-4d2f-9f4b-23f07337c71a",
   "metadata": {},
   "source": [
    "## 安装汉化语言包\n",
    "\n",
    "安装完成后，如果担心英语菜单使用不方便的话，还可以安装官方提供的语言包（JupyterLab 3.0 版本以上可用），其命令为:\n",
    "\n",
    "```bash\n",
    "pip install jupyterlab-language-pack-zh-CN\n",
    "\n",
    "# or\n",
    "\n",
    "pip3 install jupyterlab-language-pack-zh-CN\n",
    "```\n",
    "\n",
    "如果出现安装失败的情况，则可以选择手动安装的方式，安装方式为：\n",
    "\n",
    "1. 去下载官方语言包的汉化安装包 `.whl` 文件，该文件也已经放在当前项目下，文件名为 `jupyterlab_language_pack_zh_CN-0.0.1.dev0-py2.py3-none-any.whl`\n",
    "2. 在 `whl` 文件目录下运行安装命令 `pip install jupyterlab_language_pack_zh_CN-0.0.1.dev0-py2.py3-none-any.whl`\n",
    "3. 等待安装包安装成功\n",
    "4. 用 `jupyter lab` 命令启动 `jupyterlab`\n",
    "5. 在 jupyterlab web 界面中选择语言为 `中文（简体，中国）`即可\n"
   ]
  }
 ],
 "metadata": {
  "kernelspec": {
   "display_name": "Python 3 (ipykernel)",
   "language": "python",
   "name": "python3"
  },
  "language_info": {
   "codemirror_mode": {
    "name": "ipython",
    "version": 3
   },
   "file_extension": ".py",
   "mimetype": "text/x-python",
   "name": "python",
   "nbconvert_exporter": "python",
   "pygments_lexer": "ipython3",
   "version": "3.9.1"
  }
 },
 "nbformat": 4,
 "nbformat_minor": 5
}
