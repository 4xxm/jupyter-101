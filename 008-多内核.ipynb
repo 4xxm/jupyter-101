{
 "cells": [
  {
   "cell_type": "markdown",
   "id": "bf3f1c1b-0829-4d30-9540-4c49b1358e63",
   "metadata": {
    "tags": []
   },
   "source": [
    "## jupyter 多内核使用\n",
    "\n",
    "jupyter 支持了多种语言，每一种语言对应一个/多个类型的 kernel，kernel 的列表可以参考 <https://github.com/jupyter/jupyter/wiki/Jupyter-kernels>\n",
    "\n",
    "查看已经安装的 kernel 命令为：\n",
    "\n",
    "```bash\n",
    "jupyter kernelspec list\n",
    "```\n",
    "\n",
    "### Python2\n",
    "\n",
    "如果你本机已经安装了 `Python2` ，则可以通过运行以下命令来增加 `Python2` 的 kernel：\n",
    "\n",
    "```bash\n",
    "# Step 1 - Install ipython kernel for python2\n",
    "python2 -m pip install ipykernel\n",
    "\n",
    "# Step 2 - python2 kernel\n",
    "python2 -m ipykernel install --user\n",
    "```\n",
    "\n",
    "这个时候就可以通过 `jupyter kernelspec list` 来查看目前已经安装及支持的  kernel 类型\n",
    "\n",
    "\n",
    "### Java\n",
    "\n",
    "`Java` 的 内核并不是官方提供的，是社区开发者维护的一个内核，这里我们使用 `IJava` 这个项目来安装 `Java` 内核：\n",
    "\n",
    "GitHub: <https://github.com/SpencerPark/IJava>\n",
    "\n",
    "这里我们使用从 release 下载 zip 包的方式来安装，具体的步骤为：\n",
    "\n",
    "1. 从 GitHub 上 下载 `IJava` release\n",
    "2. 安装 `IJava` 内核\n",
    "3. 查看已安装的内核\n",
    "\n",
    "```bash\n",
    "# Step 1 - 下载 Release\n",
    "wget https://github.com/SpencerPark/IJava/releases/download/v1.3.0/ijava-1.3.0.zip\n",
    "\n",
    "# Step 2 - 安装 IJava\n",
    "## unzip\n",
    "unzip ijava-1.3.0.zip\n",
    "## 执行 install.py\n",
    "cd ijava-1.3.0\n",
    "python install.py --sys-prefix\n",
    "```\n",
    "\n",
    "最后通过 `jupyter kernelspec list` 来查看是否添加上 `Java` 的 kernel\n"
   ]
  },
  {
   "cell_type": "code",
   "execution_count": null,
   "id": "4559659a-5dba-4e90-a727-1757a1ed819e",
   "metadata": {},
   "outputs": [],
   "source": [
    "// 这里放一段 Java 的测试代码，可以选择 Java 内核来运行测试一下\n",
    "System.out.println(\"Hello World!\")"
   ]
  },
  {
   "cell_type": "markdown",
   "id": "77a5b645-8378-41d5-94dc-d389e6dc1920",
   "metadata": {},
   "source": [
    "## C Kernel\n",
    "\n",
    "GitHub: <https://github.com/brendan-rius/jupyter-c-kernel>\n",
    "\n",
    "1. Clone Repo\n",
    "2. Install setup.py\n",
    "3. Install Jupyter_c_kernel\n",
    "\n",
    "\n",
    "```bash\n",
    "# Step 1\n",
    "git clone https://github.com/brendan-rius/jupyter-c-kernel && cd jupyter-c-kernel\n",
    "\n",
    "# Step 2\n",
    "## setup.py 的使用命令查看  python3 setup.py --help\n",
    "python3 setup.py install\n",
    "\n",
    "# Step 3\n",
    "cd jupyter_c_kernel\n",
    "python3 install_c_kernel\n",
    "```"
   ]
  },
  {
   "cell_type": "code",
   "execution_count": null,
   "id": "727ec622-2a51-4129-86bb-f487edb45b0a",
   "metadata": {},
   "outputs": [],
   "source": [
    "#include <stdio.h>      // 执行 printf() 函数需要该库\n",
    "int main()\n",
    "{\n",
    "    printf(\"Hello World!\");  //显示引号中的内容\n",
    "    return 0;\n",
    "}"
   ]
  }
 ],
 "metadata": {
  "kernelspec": {
   "display_name": "Java",
   "language": "java",
   "name": "java"
  },
  "language_info": {
   "codemirror_mode": "java",
   "file_extension": ".jshell",
   "mimetype": "text/x-java-source",
   "name": "Java",
   "pygments_lexer": "java",
   "version": "16.0.1+9-24"
  }
 },
 "nbformat": 4,
 "nbformat_minor": 5
}
