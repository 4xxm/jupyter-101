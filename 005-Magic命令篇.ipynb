{
 "cells": [
  {
   "cell_type": "markdown",
   "id": "93215a6e-e7c9-45d6-85ee-add3be19678a",
   "metadata": {},
   "source": [
    "在Ipython 或 Jupyter Notebook 中，我们可以使用魔法命令来执行一些操作，如下所示："
   ]
  },
  {
   "cell_type": "code",
   "execution_count": 1,
   "id": "a7fca22d-d6a7-414b-8f1e-6ecd0ecf9712",
   "metadata": {},
   "outputs": [
    {
     "name": "stdout",
     "output_type": "stream",
     "text": [
      " 驱动器 E 中的卷没有标签。\n",
      " 卷的序列号是 1796-1B67\n",
      "\n",
      " E:\\Jupyter\\CodingHere\\jupyter-101 的目录\n",
      "\n",
      "2021/07/21  17:54    <DIR>          .\n",
      "2021/07/21  17:54    <DIR>          ..\n",
      "2021/07/20  16:03                83 .gitignore\n",
      "2021/07/20  16:03               616 .ipynb\n",
      "2021/07/21  17:52    <DIR>          .ipynb_checkpoints\n",
      "2021/07/21  10:56           447,926 001-install.ipynb\n",
      "2021/07/21  16:57             6,891 002-demo.ipynb\n",
      "2021/07/21  10:35             6,919 003-about-jupyter-notebook.ipynb\n",
      "2021/07/21  10:35            23,723 004-Exercise.ipynb\n",
      "2021/07/21  17:01             8,153 005-Exercise-1.ipynb\n",
      "2021/07/21  17:54               562 005-Magic命令篇.ipynb\n",
      "2021/07/20  16:03             1,494 drawio.dio\n",
      "2021/07/20  16:03            44,209 jupyterlab_language_pack_zh_CN-0.0.1.dev0-py2.py3-none-any.whl\n",
      "2021/07/21  17:50            11,316 Untitled.ipynb\n",
      "2021/07/21  17:42           395,492 使用小技巧.ipynb\n",
      "2021/07/21  10:35             3,832 问题记录.md\n",
      "              13 个文件        951,216 字节\n",
      "               3 个目录 89,751,576,576 可用字节\n"
     ]
    }
   ],
   "source": [
    "%ls"
   ]
  },
  {
   "cell_type": "markdown",
   "id": "b37dd737-6639-4289-86a5-7d3f4e585fac",
   "metadata": {},
   "source": [
    "魔法命令可以实现很方便地在Ipython中与本机上的一些资源进行交互操作。Jupyter Notebook和Jupyter Lab中支持的魔法命令，其实是由Ipython内核来提供支持的，见Ipython magic command官网。\n",
    "\n",
    "Ipython的魔法命令分line magic和cell magic两种，\n",
    "\n",
    "line magic：是只针对当前行生效的方法，使用魔法命令时只需要用一个%前缀\n",
    "\n",
    "cell magic：是针对当前整个代码输入框（在Jupyter中，一个代码输入框通常称为cell）生效的方法，使用魔法命令时只需要用两个%前缀，也就是%%\n",
    "\n",
    "IPython中的魔法命令有很多，执行`%lsmagic`命令，即可查看所有的魔法命令，如下所示："
   ]
  },
  {
   "cell_type": "code",
   "execution_count": 2,
   "id": "7b63b98a-1c63-4389-b4a9-b67312e51480",
   "metadata": {},
   "outputs": [
    {
     "data": {
      "application/json": {
       "cell": {
        "!": "OSMagics",
        "HTML": "Other",
        "SVG": "Other",
        "bash": "Other",
        "capture": "ExecutionMagics",
        "cmd": "Other",
        "debug": "ExecutionMagics",
        "file": "Other",
        "html": "DisplayMagics",
        "javascript": "DisplayMagics",
        "js": "DisplayMagics",
        "latex": "DisplayMagics",
        "markdown": "DisplayMagics",
        "perl": "Other",
        "prun": "ExecutionMagics",
        "pypy": "Other",
        "python": "Other",
        "python2": "Other",
        "python3": "Other",
        "ruby": "Other",
        "script": "ScriptMagics",
        "sh": "Other",
        "svg": "DisplayMagics",
        "sx": "OSMagics",
        "system": "OSMagics",
        "time": "ExecutionMagics",
        "timeit": "ExecutionMagics",
        "writefile": "OSMagics"
       },
       "line": {
        "alias": "OSMagics",
        "alias_magic": "BasicMagics",
        "autoawait": "AsyncMagics",
        "autocall": "AutoMagics",
        "automagic": "AutoMagics",
        "autosave": "KernelMagics",
        "bookmark": "OSMagics",
        "cd": "OSMagics",
        "clear": "KernelMagics",
        "cls": "KernelMagics",
        "colors": "BasicMagics",
        "conda": "PackagingMagics",
        "config": "ConfigMagics",
        "connect_info": "KernelMagics",
        "copy": "Other",
        "ddir": "Other",
        "debug": "ExecutionMagics",
        "dhist": "OSMagics",
        "dirs": "OSMagics",
        "doctest_mode": "BasicMagics",
        "echo": "Other",
        "ed": "Other",
        "edit": "KernelMagics",
        "env": "OSMagics",
        "gui": "BasicMagics",
        "hist": "Other",
        "history": "HistoryMagics",
        "killbgscripts": "ScriptMagics",
        "ldir": "Other",
        "less": "KernelMagics",
        "load": "CodeMagics",
        "load_ext": "ExtensionMagics",
        "loadpy": "CodeMagics",
        "logoff": "LoggingMagics",
        "logon": "LoggingMagics",
        "logstart": "LoggingMagics",
        "logstate": "LoggingMagics",
        "logstop": "LoggingMagics",
        "ls": "Other",
        "lsmagic": "BasicMagics",
        "macro": "ExecutionMagics",
        "magic": "BasicMagics",
        "matplotlib": "PylabMagics",
        "mkdir": "Other",
        "more": "KernelMagics",
        "notebook": "BasicMagics",
        "page": "BasicMagics",
        "pastebin": "CodeMagics",
        "pdb": "ExecutionMagics",
        "pdef": "NamespaceMagics",
        "pdoc": "NamespaceMagics",
        "pfile": "NamespaceMagics",
        "pinfo": "NamespaceMagics",
        "pinfo2": "NamespaceMagics",
        "pip": "PackagingMagics",
        "popd": "OSMagics",
        "pprint": "BasicMagics",
        "precision": "BasicMagics",
        "prun": "ExecutionMagics",
        "psearch": "NamespaceMagics",
        "psource": "NamespaceMagics",
        "pushd": "OSMagics",
        "pwd": "OSMagics",
        "pycat": "OSMagics",
        "pylab": "PylabMagics",
        "qtconsole": "KernelMagics",
        "quickref": "BasicMagics",
        "recall": "HistoryMagics",
        "rehashx": "OSMagics",
        "reload_ext": "ExtensionMagics",
        "ren": "Other",
        "rep": "Other",
        "rerun": "HistoryMagics",
        "reset": "NamespaceMagics",
        "reset_selective": "NamespaceMagics",
        "rmdir": "Other",
        "run": "ExecutionMagics",
        "save": "CodeMagics",
        "sc": "OSMagics",
        "set_env": "OSMagics",
        "store": "StoreMagics",
        "sx": "OSMagics",
        "system": "OSMagics",
        "tb": "ExecutionMagics",
        "time": "ExecutionMagics",
        "timeit": "ExecutionMagics",
        "unalias": "OSMagics",
        "unload_ext": "ExtensionMagics",
        "who": "NamespaceMagics",
        "who_ls": "NamespaceMagics",
        "whos": "NamespaceMagics",
        "xdel": "NamespaceMagics",
        "xmode": "BasicMagics"
       }
      },
      "text/plain": [
       "Available line magics:\n",
       "%alias  %alias_magic  %autoawait  %autocall  %automagic  %autosave  %bookmark  %cd  %clear  %cls  %colors  %conda  %config  %connect_info  %copy  %ddir  %debug  %dhist  %dirs  %doctest_mode  %echo  %ed  %edit  %env  %gui  %hist  %history  %killbgscripts  %ldir  %less  %load  %load_ext  %loadpy  %logoff  %logon  %logstart  %logstate  %logstop  %ls  %lsmagic  %macro  %magic  %matplotlib  %mkdir  %more  %notebook  %page  %pastebin  %pdb  %pdef  %pdoc  %pfile  %pinfo  %pinfo2  %pip  %popd  %pprint  %precision  %prun  %psearch  %psource  %pushd  %pwd  %pycat  %pylab  %qtconsole  %quickref  %recall  %rehashx  %reload_ext  %ren  %rep  %rerun  %reset  %reset_selective  %rmdir  %run  %save  %sc  %set_env  %store  %sx  %system  %tb  %time  %timeit  %unalias  %unload_ext  %who  %who_ls  %whos  %xdel  %xmode\n",
       "\n",
       "Available cell magics:\n",
       "%%!  %%HTML  %%SVG  %%bash  %%capture  %%cmd  %%debug  %%file  %%html  %%javascript  %%js  %%latex  %%markdown  %%perl  %%prun  %%pypy  %%python  %%python2  %%python3  %%ruby  %%script  %%sh  %%svg  %%sx  %%system  %%time  %%timeit  %%writefile\n",
       "\n",
       "Automagic is ON, % prefix IS NOT needed for line magics."
      ]
     },
     "execution_count": 2,
     "metadata": {},
     "output_type": "execute_result"
    }
   ],
   "source": [
    "%lsmagic"
   ]
  },
  {
   "cell_type": "markdown",
   "id": "ac320e4d-08b5-4638-ae55-a2d9aa3ca9d2",
   "metadata": {},
   "source": [
    "要查看某个魔法命令的用法，可以使用`%{命令名}?`，也就是在命令名后加一个问号，如下所示："
   ]
  },
  {
   "cell_type": "code",
   "execution_count": 7,
   "id": "d57ca086-cdd4-460b-b105-6d5d00e5bf4a",
   "metadata": {},
   "outputs": [
    {
     "data": {
      "text/plain": [
       "\u001b[1;31mDocstring:\u001b[0m\n",
       "Return the current working directory path.\n",
       "\n",
       "Examples\n",
       "--------\n",
       "::\n",
       "\n",
       "  In [9]: pwd\n",
       "  Out[9]: '/home/tsuser/sprint/ipython'\n",
       "\u001b[1;31mFile:\u001b[0m      e:\\anaconda\\lib\\site-packages\\ipython\\core\\magics\\osm.py\n"
      ]
     },
     "metadata": {},
     "output_type": "display_data"
    }
   ],
   "source": [
    "%pwd?"
   ]
  },
  {
   "cell_type": "markdown",
   "id": "8c99641b-b60e-4b05-b484-30f31dfd6b9d",
   "metadata": {},
   "source": [
    "一些常用魔法函数的示例：\n",
    "\n",
    "|魔法函数|说明|\n",
    "|----|----|\n",
    "|%pwd|查看当前工作目录|\n",
    "|%timeit|测试单行语句的执行时间|\n",
    "|%%timeit|测试整个单元中代码的执行时间|\n",
    "|%reset|清除全部变量|\n",
    "|%run|调用外部python脚本|\n",
    "|%env|列出全部环境变量|\n",
    "\n",
    "- 注意：\n",
    "    这些命令是在 Python kernel 中适用的，其他 kernel 不一定适用"
   ]
  }
 ],
 "metadata": {
  "kernelspec": {
   "display_name": "Python 3",
   "language": "python",
   "name": "python3"
  },
  "language_info": {
   "codemirror_mode": {
    "name": "ipython",
    "version": 3
   },
   "file_extension": ".py",
   "mimetype": "text/x-python",
   "name": "python",
   "nbconvert_exporter": "python",
   "pygments_lexer": "ipython3",
   "version": "3.8.8"
  }
 },
 "nbformat": 4,
 "nbformat_minor": 5
}
