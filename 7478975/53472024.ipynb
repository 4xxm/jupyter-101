{
 "cells": [
  {
   "cell_type": "markdown",
   "id": "7a4943a4-34f0-4195-bd2c-9b1eb945ef21",
   "metadata": {},
   "source": [
    "## 两个列表如何相互匹配？\n",
    "\n",
    "a=['good' , 'study' , 'day' , 'up']\n",
    "b=[0 , 1 , 1 , 0]\n",
    "c=['study' , 'day']\n",
    "\n",
    "要求：当 b[i] == 1时，提取出 a[i] ，并组成新列表c\n",
    "\n",
    "在**不使用循环遍历**的前提下，有没有一个函数能直接做到？"
   ]
  },
  {
   "cell_type": "code",
   "execution_count": 25,
   "id": "df926d1a-23d8-4484-a56e-33f00e84e727",
   "metadata": {},
   "outputs": [
    {
     "name": "stdout",
     "output_type": "stream",
     "text": [
      "['good', 'study', 'day', 'up']\n",
      "[0, 1, 1, 0]\n",
      "['null']\n"
     ]
    }
   ],
   "source": [
    "# Step1：初始化数据\n",
    "# 执行代码请按 Ctrl / Control + Enter\n",
    "a=['good' , 'study' , 'day' , 'up']\n",
    "b=[0 , 1 , 1 , 0]\n",
    "c=['null']\n",
    "print(a)\n",
    "print(b)\n",
    "print(c)"
   ]
  },
  {
   "cell_type": "code",
   "execution_count": 26,
   "id": "139123a6-0dc0-4c53-8a1e-79d132601887",
   "metadata": {},
   "outputs": [
    {
     "name": "stdout",
     "output_type": "stream",
     "text": [
      "['study', 'day']\n"
     ]
    }
   ],
   "source": [
    "# Step2: 组成新列表c 并打印\n",
    "# 回答作者 @yakumosumi\n",
    "# 回答时间 2021-07-23 15:00\n",
    "# 回答链接 https://ask.csdn.net/questions/7478975?spm=1005.2026.3001.5703&answer=53472024\n",
    "# 作者描述 @yakumosumi 直接列表解析\n",
    "# 执行代码请按 Shift + Enter\n",
    "c = [a[i] for i in range(len(a)) if b[i] == 1]\n",
    "print(c)"
   ]
  }
 ],
 "metadata": {
  "kernelspec": {
   "display_name": "Python 3 (ipykernel)",
   "language": "python",
   "name": "python3"
  },
  "language_info": {
   "codemirror_mode": {
    "name": "ipython",
    "version": 3
   },
   "file_extension": ".py",
   "mimetype": "text/x-python",
   "name": "python",
   "nbconvert_exporter": "python",
   "pygments_lexer": "ipython3",
   "version": "3.9.1"
  }
 },
 "nbformat": 4,
 "nbformat_minor": 5
}
