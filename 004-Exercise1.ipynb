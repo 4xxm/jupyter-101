{
 "cells": [
  {
   "cell_type": "markdown",
   "id": "1cddd820-50ca-409b-84ec-9e08f2a0092f",
   "metadata": {},
   "source": [
    "## Exercise1 Note\n",
    "\n",
    "#### `Ctrl-Enter` `Shift-Enter` & `Alt-Enter`\n",
    "\n",
    "- `Ctrl-Enter` ，执行/重复执行当前 cell\n",
    "- `Shift-Enter`，执行当前 cell 并跳转至下一个 cell（没有的话则新建一个 cell）\n",
    "- `Alt-Enter`，执行当前 cell 并新建一个 cell"
   ]
  },
  {
   "cell_type": "markdown",
   "id": "74a40c66-3782-4305-a2c1-f85f2144159e",
   "metadata": {},
   "source": [
    "#### Import\n",
    "\n",
    "在`代码 cell` 中，可以通过 `pip install xxx` & `import xxx` 的方式来导入非标准库（即不是系统自带的 lib）\n",
    "\n",
    "导入完成后，在`代码 cell` 中你依旧可以像 IDE 那样 使用 `tab` 键来获得补全提示，补全信息的种类包括：\n",
    "\n",
    "#d9282c\n",
    "\n",
    "```html\n",
    "m (红色) `#d9282c` -- module \n",
    "f (蓝色）`#1577b2` -- function\n",
    "c（绿色）`#21a037` -- class\n",
    "i （橙色）`#ff7f24` -- instance\n",
    "```\n",
    "\n",
    "同时你可以开启上下文帮助（`command + I`），查看具体某个方法的使用提示\n",
    "\n",
    "非常的方便。"
   ]
  }
 ],
 "metadata": {
  "kernelspec": {
   "display_name": "Python 3 (ipykernel)",
   "language": "python",
   "name": "python3"
  },
  "language_info": {
   "codemirror_mode": {
    "name": "ipython",
    "version": 3
   },
   "file_extension": ".py",
   "mimetype": "text/x-python",
   "name": "python",
   "nbconvert_exporter": "python",
   "pygments_lexer": "ipython3",
   "version": "3.9.1"
  }
 },
 "nbformat": 4,
 "nbformat_minor": 5
}
