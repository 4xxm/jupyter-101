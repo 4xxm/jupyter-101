{
 "cells": [
  {
   "cell_type": "markdown",
   "id": "f20c7d3d-2915-490c-974b-6d6b84e4a6d5",
   "metadata": {},
   "source": [
    "# JupyterLab Demo"
   ]
  },
  {
   "cell_type": "code",
   "execution_count": 8,
   "id": "a37a146d-4106-4249-93c6-1dd4f376ae15",
   "metadata": {},
   "outputs": [
    {
     "name": "stdout",
     "output_type": "stream",
     "text": [
      "xxm\n"
     ]
    }
   ],
   "source": [
    "list = [\"xxm\",\"miykael\",\"rose\",\"happy\"]\n",
    "\n",
    "print(list[0]);"
   ]
  },
  {
   "cell_type": "code",
   "execution_count": 4,
   "id": "7d8ddfa7-24fb-4983-be50-a9dd925ce1c5",
   "metadata": {
    "tags": []
   },
   "outputs": [
    {
     "name": "stdout",
     "output_type": "stream",
     "text": [
      "72\n",
      "72.0\n"
     ]
    }
   ],
   "source": [
    "a = 2;\n",
    "b = 20;\n",
    "c = a*b + (a + b) + (b/a);\n",
    "print(int(c));\n",
    "print(c);"
   ]
  },
  {
   "cell_type": "markdown",
   "id": "1675ef93-41a0-4ebf-bc29-d19b8754bb8a",
   "metadata": {
    "tags": []
   },
   "source": [
    "# 叙述性语言\n",
    "\n",
    "这里可以放叙述性语言\n",
    "\n",
    "> 非常的奈斯，至于这里的 markdown 样式，可以参考 code 或者 blog\n",
    "\n",
    "\n"
   ]
  },
  {
   "cell_type": "markdown",
   "id": "93c6b037-12cd-4ca7-9958-200c6cde402b",
   "metadata": {
    "tags": []
   },
   "source": [
    "## JuypterLab 快捷键\n",
    "\n",
    "Jupyter Notebook 有两种键盘输入模式。编辑模式，允许你往单元中键入代码或文本；这时的单元框线是绿色的。命令模式，键盘输入运行程序命令；这时的单元框线是灰色。\n",
    "\n",
    "官方视频介绍  <https://jupyterlab.readthedocs.io/en/latest/user/interface.html#keyboard-shortcuts>\n",
    "\n",
    "下面是一些比较常用的快捷键：\n",
    "\n",
    "编辑模式：点击单元格按下`Enter`\n",
    "\n",
    "命令模式（退出编辑模式）：`Esc`\n",
    "\n",
    "进入命令模式之后，有以下快捷键：\n",
    "- `A` : 在所选单元上方插入新单元\n",
    "- `B` : 在所选单元下方插入新单元\n",
    "- `D,D` : 删除选中的单元\n",
    "- `Z` : 恢复删除的最后一个单元\n",
    "- `Y` : 单元转入代码状态\n",
    "- `M` :单元转入markdown状态\n",
    "- `F` : 查找和替换\n",
    "- `Shift-上或下箭头` : 可选择多个单元\n",
    "- `Shift-M` : 合并选中的单元\n",
    "\n",
    "处于编辑模式时，下列快捷键很有用：\n",
    "- `Ctrl-Enter` : 运行本单元\n",
    "- `Ctrl-Home` : 跳到单元开头\n",
    "- `Ctrl-S` : 文件存盘\n",
    "\n",
    "可在命令模式按`H`或进入`Help > Keyboard Shortcuts`。可以查看键盘快捷键完整列表。如下：\n",
    "- `命令模式` (按键 Esc 开启)\n",
    "- `Enter` : 转入编辑模式\n",
    "- `Shift-Enter` : 运行本单元，选中下个单元\n",
    "- `Ctrl-Enter` : 运行本单元\n",
    "- `Alt-Enter` : 运行本单元，在其下插入新单元\n",
    "- `Y` : 单元转入代码状态\n",
    "- `M` :单元转入markdown状态\n",
    "- `R` : 单元转入raw状态\n",
    "- `1` : 设定 1 级标题\n",
    "- `2` : 设定 2 级标题\n",
    "- `3` : 设定 3 级标题\n",
    "- `4` : 设定 4 级标题\n",
    "- `5` : 设定 5 级标题\n",
    "- `6` : 设定 6 级标题\n",
    "- `Up` : 选中上方单元\n",
    "- `K` : 选中上方单元\n",
    "- `Down` : 选中下方单元\n",
    "- `J` : 选中下方单元\n",
    "- `Shift-K` : 扩大选中上方单元\n",
    "- `Shift-J` : 扩大选中下方单元\n",
    "- `A` : 在上方插入新单元\n",
    "- `B` : 在下方插入新单元\n",
    "- `X` : 剪切选中的单元\n",
    "- `C` : 复制选中的单元\n",
    "- `Shift-V` : 粘贴到上方单元\n",
    "- `V` : 粘贴到下方单元\n",
    "- `Z` : 恢复删除的最后一个单元\n",
    "- `D,D` : 删除选中的单元\n",
    "- `Shift-M` : 合并选中的单元\n",
    "- `Ctrl-S` : 文件存盘\n",
    "- `S` : 文件存盘\n",
    "- `L` : 转换行号\n",
    "- `O` : 转换输出\n",
    "- `Shift-O` : 转换输出滚动\n",
    "- `Esc` : 关闭页面\n",
    "- `Q` : 关闭页面\n",
    "- `H` : 显示快捷键帮助\n",
    "- `I,I` : 中断Notebook内核\n",
    "- `0,0` : 重启Notebook内核\n",
    "- `Shift` : 忽略\n",
    "- `Shift-Space` : 向上滚动\n",
    "- `Space` : 向下滚动\n",
    "- `Tab` : 代码补全或缩进\n",
    "- `Shift-Tab` : 提示\n",
    "- `Ctrl-]` : 缩进\n",
    "- `Ctrl-[` : 解除缩进\n",
    "- `Ctrl-A` : 全选\n",
    "- `Ctrl-Z` : 复原\n",
    "- `Ctrl-Shift-Z` : 再做\n",
    "- `Ctrl-Y` : 再做\n",
    "- `Ctrl-Home` : 跳到单元开头\n",
    "- `Ctrl-Up` : 跳到单元开头\n",
    "- `Ctrl-End` : 跳到单元末尾\n",
    "- `Ctrl-Down` : 跳到单元末尾\n",
    "- `Ctrl-Left` : 跳到左边一个字首\n",
    "- `Ctrl-Right` : 跳到右边一个字首\n",
    "- `Ctrl-Backspace` : 删除前面一个字\n",
    "- `Ctrl-Delete` : 删除后面一个字\n",
    "- `Esc` : 进入命令模式\n",
    "- `Ctrl-M` : 进入命令模式\n",
    "- `Shift-Enter` : 运行本单元，选中下一单元\n",
    "- `Ctrl-Enter` : 运行本单元\n",
    "- `Alt-Enter` : 运行本单元，在下面插入一单元\n",
    "- `Ctrl-Shift--` : 分割单元\n",
    "- `Ctrl-Shift-Subtract` : 分割单元\n",
    "- `Ctrl-S` : 文件存盘\n",
    "- `Shift` : 忽略\n",
    "- `Up` : 光标上移或转入上一单元\n",
    "- `Down` :光标下移或转入下一单元\n",
    "\n",
    "\n",
    "### 总结一下自己常用的快捷键\n",
    "\n",
    "- `B`\n",
    "- `A`\n",
    "- `Y`\n",
    "- `M`\n",
    "- `Command + Enter`\n",
    "- `Shift + Eneter`\n",
    "- `D,D`\n",
    "- `0,0`\n",
    "- `Command + I `\n",
    "- `Enter`\n",
    "- `Esc`"
   ]
  }
 ],
 "metadata": {
  "kernelspec": {
   "display_name": "Python 3",
   "language": "python",
   "name": "python3"
  },
  "language_info": {
   "codemirror_mode": {
    "name": "ipython",
    "version": 3
   },
   "file_extension": ".py",
   "mimetype": "text/x-python",
   "name": "python",
   "nbconvert_exporter": "python",
   "pygments_lexer": "ipython3",
   "version": "3.8.8"
  }
 },
 "nbformat": 4,
 "nbformat_minor": 5
}
